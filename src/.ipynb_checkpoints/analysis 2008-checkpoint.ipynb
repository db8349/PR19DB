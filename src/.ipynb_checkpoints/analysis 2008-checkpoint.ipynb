{
 "cells": [
  {
   "cell_type": "code",
   "execution_count": 3,
   "metadata": {},
   "outputs": [
    {
     "ename": "ModuleNotFoundError",
     "evalue": "No module named 'mpl_toolkits.basemap'",
     "output_type": "error",
     "traceback": [
      "\u001b[1;31m---------------------------------------------------------------------------\u001b[0m",
      "\u001b[1;31mModuleNotFoundError\u001b[0m                       Traceback (most recent call last)",
      "\u001b[1;32m<ipython-input-3-c12dfa4f8919>\u001b[0m in \u001b[0;36m<module>\u001b[1;34m()\u001b[0m\n\u001b[0;32m     11\u001b[0m \u001b[1;32mfrom\u001b[0m \u001b[0mmatplotlib\u001b[0m\u001b[1;33m.\u001b[0m\u001b[0mpatches\u001b[0m \u001b[1;32mimport\u001b[0m \u001b[0mPolygon\u001b[0m\u001b[1;33m\u001b[0m\u001b[0m\n\u001b[0;32m     12\u001b[0m \u001b[1;32mfrom\u001b[0m \u001b[0mmatplotlib\u001b[0m\u001b[1;33m.\u001b[0m\u001b[0mcollections\u001b[0m \u001b[1;32mimport\u001b[0m \u001b[0mPatchCollection\u001b[0m\u001b[1;33m\u001b[0m\u001b[0m\n\u001b[1;32m---> 13\u001b[1;33m \u001b[1;32mfrom\u001b[0m \u001b[0mmpl_toolkits\u001b[0m\u001b[1;33m.\u001b[0m\u001b[0mbasemap\u001b[0m \u001b[1;32mimport\u001b[0m \u001b[0mBasemap\u001b[0m\u001b[1;33m\u001b[0m\u001b[0m\n\u001b[0m\u001b[0;32m     14\u001b[0m \u001b[1;33m\u001b[0m\u001b[0m\n\u001b[0;32m     15\u001b[0m \u001b[0mfilename\u001b[0m \u001b[1;33m=\u001b[0m \u001b[1;34m'../data/country_gdp_growth.csv'\u001b[0m\u001b[1;33m\u001b[0m\u001b[0m\n",
      "\u001b[1;31mModuleNotFoundError\u001b[0m: No module named 'mpl_toolkits.basemap'"
     ]
    }
   ],
   "source": [
    "#%load_ext signature\n",
    "#%matplotlib inline\n",
    "\n",
    "import matplotlib as mpl\n",
    "import matplotlib.pyplot as plt\n",
    "import numpy as np\n",
    "import pandas as pd\n",
    "\n",
    "from geonamescache import GeonamesCache\n",
    "import slug\n",
    "from matplotlib.patches import Polygon\n",
    "from matplotlib.collections import PatchCollection\n",
    "from mpl_toolkits.basemap import Basemap\n",
    "\n",
    "filename = '../data/country_gdp_growth.csv'\n",
    "shapefile = '../data/ne_10m_admin_0_countries_lakes'\n",
    "num_colors = 9\n",
    "year = '2012'\n",
    "cols = ['Country Name', 'Country Code', year]\n",
    "title = 'Forest area as percentage of land area in {}'.format(year)\n",
    "imgfile = '../img/{}.png'.format(slug(title))\n",
    "\n",
    "description = '''\n",
    "Forest area is land under natural or planted stands of trees of at least 5 meters in situ, whether productive or not, and excludes tree stands in agricultural production systems (for example, in fruit plantations\n",
    "and agroforestry systems) and trees in urban parks and gardens. Countries without data are shown in grey. Data: World Bank - worldbank.org • Author: Ramiro Gómez - ramiro.org'''.strip()"
   ]
  },
  {
   "cell_type": "code",
   "execution_count": null,
   "metadata": {},
   "outputs": [],
   "source": [
    "gc = GeonamesCache()\n",
    "iso3_codes = list(gc.get_dataset_by_key(gc.get_countries(), 'iso3').keys())"
   ]
  },
  {
   "cell_type": "code",
   "execution_count": null,
   "metadata": {},
   "outputs": [],
   "source": [
    "df = pd.read_csv(filename, skiprows=4, usecols=cols)\n",
    "df.set_index('Country Code', inplace=True)\n",
    "df = df.ix[iso3_codes].dropna() # Filter out non-countries and missing values."
   ]
  },
  {
   "cell_type": "code",
   "execution_count": null,
   "metadata": {},
   "outputs": [],
   "source": [
    "values = df[year]\n",
    "cm = plt.get_cmap('Greens')\n",
    "scheme = [cm(i / num_colors) for i in range(num_colors)]\n",
    "bins = np.linspace(values.min(), values.max(), num_colors)\n",
    "df['bin'] = np.digitize(values, bins) - 1\n",
    "df.sort_values('bin', ascending=False).head(10)"
   ]
  },
  {
   "cell_type": "code",
   "execution_count": null,
   "metadata": {},
   "outputs": [],
   "source": [
    "mpl.style.use('map')\n",
    "fig = plt.figure(figsize=(22, 12))\n",
    "\n",
    "ax = fig.add_subplot(111, axisbg='w', frame_on=False)\n",
    "fig.suptitle('Forest area as percentage of land area in {}'.format(year), fontsize=30, y=.95)\n",
    "\n",
    "m = Basemap(lon_0=0, projection='robin')\n",
    "m.drawmapboundary(color='w')\n",
    "\n",
    "m.readshapefile(shapefile, 'units', color='#444444', linewidth=.2)\n",
    "for info, shape in zip(m.units_info, m.units):\n",
    "    iso3 = info['ADM0_A3']\n",
    "    if iso3 not in df.index:\n",
    "        color = '#dddddd'\n",
    "    else:\n",
    "        color = scheme[df.ix[iso3]['bin']]\n",
    "\n",
    "    patches = [Polygon(np.array(shape), True)]\n",
    "    pc = PatchCollection(patches)\n",
    "    pc.set_facecolor(color)\n",
    "    ax.add_collection(pc)\n",
    "\n",
    "# Cover up Antarctica so legend can be placed over it.\n",
    "ax.axhspan(0, 1000 * 1800, facecolor='w', edgecolor='w', zorder=2)\n",
    "\n",
    "# Draw color legend.\n",
    "ax_legend = fig.add_axes([0.35, 0.14, 0.3, 0.03], zorder=3)\n",
    "cmap = mpl.colors.ListedColormap(scheme)\n",
    "cb = mpl.colorbar.ColorbarBase(ax_legend, cmap=cmap, ticks=bins, boundaries=bins, orientation='horizontal')\n",
    "cb.ax.set_xticklabels([str(round(i, 1)) for i in bins])\n",
    "\n",
    "# Set the map footer.\n",
    "plt.annotate(description, xy=(-.8, -3.2), size=14, xycoords='axes fraction')\n",
    "\n",
    "plt.savefig(imgfile, bbox_inches='tight', pad_inches=.2)"
   ]
  }
 ],
 "metadata": {
  "kernelspec": {
   "display_name": "Python 3",
   "language": "python",
   "name": "python3"
  },
  "language_info": {
   "codemirror_mode": {
    "name": "ipython",
    "version": 3
   },
   "file_extension": ".py",
   "mimetype": "text/x-python",
   "name": "python",
   "nbconvert_exporter": "python",
   "pygments_lexer": "ipython3",
   "version": "3.6.4"
  }
 },
 "nbformat": 4,
 "nbformat_minor": 2
}
